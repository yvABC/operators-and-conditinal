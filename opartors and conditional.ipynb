{
  "nbformat": 4,
  "nbformat_minor": 0,
  "metadata": {
    "colab": {
      "provenance": []
    },
    "kernelspec": {
      "name": "python3",
      "display_name": "Python 3"
    },
    "language_info": {
      "name": "python"
    }
  },
  "cells": [
    {
      "cell_type": "code",
      "execution_count": 2,
      "metadata": {
        "colab": {
          "base_uri": "https://localhost:8080/"
        },
        "id": "1DyjZXJGeAF7",
        "outputId": "c62f43d0-bdbc-4d14-9869-90d036eafc4a"
      },
      "outputs": [
        {
          "output_type": "stream",
          "name": "stdout",
          "text": [
            "hello world \n"
          ]
        }
      ],
      "source": [
        "print (\"hello world \")\n"
      ]
    },
    {
      "cell_type": "code",
      "source": [
        "x =1\n",
        "y =45\n",
        "print(\"x\",\"y\",)"
      ],
      "metadata": {
        "colab": {
          "base_uri": "https://localhost:8080/"
        },
        "id": "TribcozOeZzM",
        "outputId": "f748e920-fbf2-4183-bce6-496d5e2ecfde"
      },
      "execution_count": 4,
      "outputs": [
        {
          "output_type": "stream",
          "name": "stdout",
          "text": [
            "x y\n"
          ]
        }
      ]
    },
    {
      "cell_type": "code",
      "source": [],
      "metadata": {
        "id": "fCBLsE3_eZ0Y"
      },
      "execution_count": null,
      "outputs": []
    },
    {
      "cell_type": "markdown",
      "source": [],
      "metadata": {
        "id": "WTClKUH6gRfc"
      }
    },
    {
      "cell_type": "markdown",
      "source": [
        "operaator\n"
      ],
      "metadata": {
        "id": "PS2_Vp8agRg4"
      }
    },
    {
      "cell_type": "code",
      "source": [],
      "metadata": {
        "id": "0pNG3gS5gVr6"
      },
      "execution_count": null,
      "outputs": []
    },
    {
      "cell_type": "code",
      "source": [
        "10/2"
      ],
      "metadata": {
        "colab": {
          "base_uri": "https://localhost:8080/"
        },
        "id": "IyrVLSddge2V",
        "outputId": "fa2a3381-e15a-4fbb-8d8c-0542a20285e4"
      },
      "execution_count": 5,
      "outputs": [
        {
          "output_type": "execute_result",
          "data": {
            "text/plain": [
              "5.0"
            ]
          },
          "metadata": {},
          "execution_count": 5
        }
      ]
    },
    {
      "cell_type": "markdown",
      "source": [
        "arithmetic operator\n"
      ],
      "metadata": {
        "id": "NyhfHiomgXEu"
      }
    },
    {
      "cell_type": "code",
      "source": [
        "10 //2\n"
      ],
      "metadata": {
        "colab": {
          "base_uri": "https://localhost:8080/"
        },
        "id": "hHprgtzxeZ8T",
        "outputId": "589008e2-5cb4-4983-a10d-eddf12090334"
      },
      "execution_count": 6,
      "outputs": [
        {
          "output_type": "execute_result",
          "data": {
            "text/plain": [
              "5"
            ]
          },
          "metadata": {},
          "execution_count": 6
        }
      ]
    },
    {
      "cell_type": "code",
      "source": [
        "20.0 +23.0"
      ],
      "metadata": {
        "colab": {
          "base_uri": "https://localhost:8080/"
        },
        "id": "6Bf2-fALeaK5",
        "outputId": "7f47a3df-fe13-49ea-df5a-323d510521f3"
      },
      "execution_count": 7,
      "outputs": [
        {
          "output_type": "execute_result",
          "data": {
            "text/plain": [
              "43.0"
            ]
          },
          "metadata": {},
          "execution_count": 7
        }
      ]
    },
    {
      "cell_type": "code",
      "source": [
        "100%2"
      ],
      "metadata": {
        "colab": {
          "base_uri": "https://localhost:8080/"
        },
        "id": "SyxFSvKReaL2",
        "outputId": "257d53d6-2af5-4c2f-f7cf-5ff970fe003d"
      },
      "execution_count": 8,
      "outputs": [
        {
          "output_type": "execute_result",
          "data": {
            "text/plain": [
              "0"
            ]
          },
          "metadata": {},
          "execution_count": 8
        }
      ]
    },
    {
      "cell_type": "code",
      "source": [
        "5**2"
      ],
      "metadata": {
        "colab": {
          "base_uri": "https://localhost:8080/"
        },
        "id": "x3EZL5n0gywz",
        "outputId": "137ad98d-e20b-4cc3-9775-2350a06d3b25"
      },
      "execution_count": 9,
      "outputs": [
        {
          "output_type": "execute_result",
          "data": {
            "text/plain": [
              "25"
            ]
          },
          "metadata": {},
          "execution_count": 9
        }
      ]
    },
    {
      "cell_type": "code",
      "source": [
        "2*5+6/3+2-1"
      ],
      "metadata": {
        "colab": {
          "base_uri": "https://localhost:8080/"
        },
        "id": "IcIhxuo7g4V1",
        "outputId": "d1543f20-4b41-42a9-c86a-940f9f0c63e2"
      },
      "execution_count": 11,
      "outputs": [
        {
          "output_type": "execute_result",
          "data": {
            "text/plain": [
              "13.0"
            ]
          },
          "metadata": {},
          "execution_count": 11
        }
      ]
    },
    {
      "cell_type": "code",
      "source": [
        "6/3"
      ],
      "metadata": {
        "colab": {
          "base_uri": "https://localhost:8080/"
        },
        "id": "cA6JH2JrhNgn",
        "outputId": "3b5829dd-392a-4779-b26b-96260d1ea838"
      },
      "execution_count": 12,
      "outputs": [
        {
          "output_type": "execute_result",
          "data": {
            "text/plain": [
              "2.0"
            ]
          },
          "metadata": {},
          "execution_count": 12
        }
      ]
    },
    {
      "cell_type": "code",
      "source": [],
      "metadata": {
        "id": "uIpj48DHhYz-"
      },
      "execution_count": null,
      "outputs": []
    },
    {
      "cell_type": "code",
      "source": [],
      "metadata": {
        "id": "0-YbHHe8hYPQ"
      },
      "execution_count": null,
      "outputs": []
    },
    {
      "cell_type": "code",
      "source": [
        "#comparison"
      ],
      "metadata": {
        "id": "wq6Y1H2DhRxw"
      },
      "execution_count": null,
      "outputs": []
    },
    {
      "cell_type": "code",
      "source": [
        "10>3\n"
      ],
      "metadata": {
        "colab": {
          "base_uri": "https://localhost:8080/"
        },
        "id": "Av6xVl4RhalS",
        "outputId": "12529227-7937-4498-dd94-3a2ff2b1dbff"
      },
      "execution_count": 14,
      "outputs": [
        {
          "output_type": "execute_result",
          "data": {
            "text/plain": [
              "True"
            ]
          },
          "metadata": {},
          "execution_count": 14
        }
      ]
    },
    {
      "cell_type": "code",
      "source": [
        "10 <34"
      ],
      "metadata": {
        "colab": {
          "base_uri": "https://localhost:8080/"
        },
        "id": "-A-MMidfhgjv",
        "outputId": "d317b8d3-83cc-4688-e261-0cbd673fede5"
      },
      "execution_count": 24,
      "outputs": [
        {
          "output_type": "execute_result",
          "data": {
            "text/plain": [
              "True"
            ]
          },
          "metadata": {},
          "execution_count": 24
        }
      ]
    },
    {
      "cell_type": "code",
      "source": [
        "10==10"
      ],
      "metadata": {
        "colab": {
          "base_uri": "https://localhost:8080/"
        },
        "id": "F3m6FF2WhjQ5",
        "outputId": "ac541554-95f0-463e-b032-6f5888da8f75"
      },
      "execution_count": 16,
      "outputs": [
        {
          "output_type": "execute_result",
          "data": {
            "text/plain": [
              "True"
            ]
          },
          "metadata": {},
          "execution_count": 16
        }
      ]
    },
    {
      "cell_type": "code",
      "source": [
        "x=10\n",
        "x+5\n",
        "print(x)"
      ],
      "metadata": {
        "colab": {
          "base_uri": "https://localhost:8080/"
        },
        "id": "s72VGeHHhm20",
        "outputId": "df944553-aa34-4a0a-b54e-fa02be1c7cd4"
      },
      "execution_count": 17,
      "outputs": [
        {
          "output_type": "stream",
          "name": "stdout",
          "text": [
            "10\n"
          ]
        }
      ]
    },
    {
      "cell_type": "code",
      "source": [
        "x=10\n",
        "x+=5\n",
        "print(x)"
      ],
      "metadata": {
        "colab": {
          "base_uri": "https://localhost:8080/"
        },
        "id": "wpQ6Xrh2hy5N",
        "outputId": "6c16f0db-9df0-4773-93ea-2817c6041f88"
      },
      "execution_count": 18,
      "outputs": [
        {
          "output_type": "stream",
          "name": "stdout",
          "text": [
            "15\n"
          ]
        }
      ]
    },
    {
      "cell_type": "code",
      "source": [
        "x=4\n",
        "x**=3\n",
        "print(x)"
      ],
      "metadata": {
        "colab": {
          "base_uri": "https://localhost:8080/"
        },
        "id": "yl8OEMCahy30",
        "outputId": "bcceedc0-d240-4e6d-ce67-0e524f8591f9"
      },
      "execution_count": 20,
      "outputs": [
        {
          "output_type": "stream",
          "name": "stdout",
          "text": [
            "64\n"
          ]
        }
      ]
    },
    {
      "cell_type": "code",
      "source": [
        "x=10\n",
        "x>5\n",
        "y=20\n",
        "y=x\n"
      ],
      "metadata": {
        "id": "D61WWc-OieE1"
      },
      "execution_count": 23,
      "outputs": []
    },
    {
      "cell_type": "code",
      "source": [
        "x>5or y>x"
      ],
      "metadata": {
        "colab": {
          "base_uri": "https://localhost:8080/"
        },
        "id": "_Sl0YHoLinw2",
        "outputId": "494ca761-a978-4392-ce0f-93e1768bec43"
      },
      "execution_count": 26,
      "outputs": [
        {
          "output_type": "execute_result",
          "data": {
            "text/plain": [
              "True"
            ]
          },
          "metadata": {},
          "execution_count": 26
        }
      ]
    },
    {
      "cell_type": "markdown",
      "source": [
        "# membership"
      ],
      "metadata": {
        "id": "5VJAzThhjLIB"
      }
    },
    {
      "cell_type": "code",
      "source": [
        "\n",
        "\"P\" in \"jaipur\""
      ],
      "metadata": {
        "colab": {
          "base_uri": "https://localhost:8080/"
        },
        "id": "gqvFHJe7jTSE",
        "outputId": "190738b6-4eb9-4e5d-dd1c-8acfb96dad61"
      },
      "execution_count": 28,
      "outputs": [
        {
          "output_type": "execute_result",
          "data": {
            "text/plain": [
              "False"
            ]
          },
          "metadata": {},
          "execution_count": 28
        }
      ]
    },
    {
      "cell_type": "code",
      "source": [
        "\"a\" in \"jaipur\""
      ],
      "metadata": {
        "colab": {
          "base_uri": "https://localhost:8080/"
        },
        "id": "zaWBfTTmjkfA",
        "outputId": "4e55e7ec-e137-404b-faef-75d2e7f9850a"
      },
      "execution_count": 29,
      "outputs": [
        {
          "output_type": "execute_result",
          "data": {
            "text/plain": [
              "True"
            ]
          },
          "metadata": {},
          "execution_count": 29
        }
      ]
    },
    {
      "cell_type": "markdown",
      "source": [
        "identity operator"
      ],
      "metadata": {
        "id": "v2GqPcGQjta0"
      }
    },
    {
      "cell_type": "code",
      "source": [
        "x=10\n",
        "type (x) is int"
      ],
      "metadata": {
        "colab": {
          "base_uri": "https://localhost:8080/"
        },
        "id": "unhTKSmRjzjV",
        "outputId": "77230c96-0e08-42d6-9efc-5e1f891ebbd3"
      },
      "execution_count": 30,
      "outputs": [
        {
          "output_type": "execute_result",
          "data": {
            "text/plain": [
              "True"
            ]
          },
          "metadata": {},
          "execution_count": 30
        }
      ]
    },
    {
      "cell_type": "code",
      "source": [
        "x=10\n",
        "type(x) is not str"
      ],
      "metadata": {
        "colab": {
          "base_uri": "https://localhost:8080/"
        },
        "id": "srMfrlQEj9Pi",
        "outputId": "a1af164f-b053-4917-eaee-52135e4d2a37"
      },
      "execution_count": 31,
      "outputs": [
        {
          "output_type": "execute_result",
          "data": {
            "text/plain": [
              "True"
            ]
          },
          "metadata": {},
          "execution_count": 31
        }
      ]
    },
    {
      "cell_type": "code",
      "source": [],
      "metadata": {
        "id": "hXza0JH-kJk4"
      },
      "execution_count": null,
      "outputs": []
    },
    {
      "cell_type": "markdown",
      "source": [
        "conditional statement"
      ],
      "metadata": {
        "id": "RMr23YqrkLCx"
      }
    },
    {
      "cell_type": "code",
      "source": [
        "'''\n",
        "if (condition){\n",
        "  statement\n",
        "}\n",
        "if (condition){\n",
        "    print(\"hello\")\n",
        "}\n",
        "'''"
      ],
      "metadata": {
        "colab": {
          "base_uri": "https://localhost:8080/",
          "height": 36
        },
        "id": "hoIwQCQgkS7E",
        "outputId": "c07f1749-a392-4197-f9d7-a1a6287c0a44"
      },
      "execution_count": 33,
      "outputs": [
        {
          "output_type": "execute_result",
          "data": {
            "text/plain": [
              "'\\nif (condition){\\n  statement\\n}\\nif (condition){\\n    print(\"hello\")\\n}\\n'"
            ],
            "application/vnd.google.colaboratory.intrinsic+json": {
              "type": "string"
            }
          },
          "metadata": {},
          "execution_count": 33
        }
      ]
    },
    {
      "cell_type": "code",
      "source": [
        "age =18\n",
        "if (age==18):\n",
        "  print(\"age is 18\")"
      ],
      "metadata": {
        "colab": {
          "base_uri": "https://localhost:8080/"
        },
        "id": "trCjoe_Yky00",
        "outputId": "4e7c9554-12a4-406a-f9a1-7959aea6d236"
      },
      "execution_count": 34,
      "outputs": [
        {
          "output_type": "stream",
          "name": "stdout",
          "text": [
            "age is 18\n"
          ]
        }
      ]
    },
    {
      "cell_type": "code",
      "source": [
        "age =19\n",
        "if (age==18):\n",
        "  print(\"age is 18\")\n",
        "else:\n",
        "    print(\"condition is true\")"
      ],
      "metadata": {
        "colab": {
          "base_uri": "https://localhost:8080/"
        },
        "id": "YO57fjvalEay",
        "outputId": "9302dba0-c586-45a0-d8a7-85aaac6f3084"
      },
      "execution_count": 37,
      "outputs": [
        {
          "output_type": "stream",
          "name": "stdout",
          "text": [
            "condition is true\n"
          ]
        }
      ]
    },
    {
      "cell_type": "code",
      "source": [
        "age =40\n",
        "if (age>=18 and age>=30):\n",
        "  print(\"age is for adult\")\n",
        "else:\n",
        "  print(\"condition is false\")\n",
        ""
      ],
      "metadata": {
        "colab": {
          "base_uri": "https://localhost:8080/"
        },
        "id": "_EIu3oHklc3S",
        "outputId": "9ae4b874-6ca4-482c-8611-c840a3bed1ac"
      },
      "execution_count": 38,
      "outputs": [
        {
          "output_type": "stream",
          "name": "stdout",
          "text": [
            "age is for adult\n"
          ]
        }
      ]
    },
    {
      "cell_type": "code",
      "source": [
        "#age >5 => aadhar\n",
        "#verna => country => india => ration card"
      ],
      "metadata": {
        "id": "LzeoUO3el-jT"
      },
      "execution_count": null,
      "outputs": []
    },
    {
      "cell_type": "code",
      "source": [
        "age =5\n",
        "country=\"India\"\n",
        "if (age>=5):\n",
        "  print(\"adhar card milega\")\n",
        "else:      (\"nhi milega\")\n",
        "if     (country==\"India\"):\n",
        "  print(\"ration card milega\")\n",
        "else:\n",
        "      print  (\"nhi milega\")\n",
        "\n"
      ],
      "metadata": {
        "colab": {
          "base_uri": "https://localhost:8080/"
        },
        "id": "OdWkux8hmQVV",
        "outputId": "6f8e6470-162b-42e4-9e3a-a885a64a5409"
      },
      "execution_count": 42,
      "outputs": [
        {
          "output_type": "stream",
          "name": "stdout",
          "text": [
            "adhar card milega\n",
            "ration card milega\n"
          ]
        }
      ]
    },
    {
      "cell_type": "code",
      "source": [
        "age =4\n",
        "country=\"India\"\n",
        "if (age>=5):\n",
        "  print(\"adhar card milega\")\n",
        "else:      (\"nhi milega\")\n",
        "if     (country==\"India\"):\n",
        "  print(\"ration card milega\")\n",
        "else:\n",
        "      print  (\"nhi milega\")"
      ],
      "metadata": {
        "colab": {
          "base_uri": "https://localhost:8080/"
        },
        "id": "mgh2RXL2ncF_",
        "outputId": "85cfb734-5dcd-4751-ff5b-7c8dfd0307d4"
      },
      "execution_count": 43,
      "outputs": [
        {
          "output_type": "stream",
          "name": "stdout",
          "text": [
            "ration card milega\n"
          ]
        }
      ]
    },
    {
      "cell_type": "code",
      "source": [
        "age =10\n",
        "country=\"India\"\n",
        "if (age>=5):\n",
        "  print(\"adhar card milega\")\n",
        "else:      (\"nhi milega\")\n",
        "if     (country==\"India\"):\n",
        "  print(\"ration card milega\")\n",
        "else:\n",
        "      print  (\"nhi milega\")"
      ],
      "metadata": {
        "colab": {
          "base_uri": "https://localhost:8080/"
        },
        "id": "7Oe1UJbsnniP",
        "outputId": "410cf9d3-07bc-4f09-f112-7b6881833be6"
      },
      "execution_count": 45,
      "outputs": [
        {
          "output_type": "stream",
          "name": "stdout",
          "text": [
            "adhar card milega\n",
            "ration card milega\n"
          ]
        }
      ]
    },
    {
      "cell_type": "code",
      "source": [
        "a=5\n",
        "b=33\n",
        "c=4\n",
        "if (a>b and  a<c):\n",
        "  print(\"a is smaller\")\n",
        "elif(b<c and b<a):\n",
        "  print  (\"b is smaller\")\n",
        "else:\n",
        "  print    (\"c is smaller\")\n",
        "\n",
        "\n",
        "\n",
        "\n",
        "\n",
        "\n"
      ],
      "metadata": {
        "colab": {
          "base_uri": "https://localhost:8080/"
        },
        "id": "jAxPdTLHnxeb",
        "outputId": "6979e62b-a29f-4fd9-ef76-0c0724b8cb3c"
      },
      "execution_count": 57,
      "outputs": [
        {
          "output_type": "stream",
          "name": "stdout",
          "text": [
            "c is smaller\n"
          ]
        }
      ]
    },
    {
      "cell_type": "code",
      "source": [
        "\n"
      ],
      "metadata": {
        "id": "5qSVQtxipbTt"
      },
      "execution_count": null,
      "outputs": []
    },
    {
      "cell_type": "markdown",
      "source": [
        "**nested if else**"
      ],
      "metadata": {
        "id": "cvEP5GN4rWYC"
      }
    },
    {
      "cell_type": "code",
      "source": [
        "#age >18\n",
        "#voterid => vote\n",
        "age =17\n",
        "voterid =1\n",
        "if (age>= 18):\n",
        "  print (\"Eligible for voting\")\n",
        "  if (voterid==1):\n",
        "   print(\"can vote\")\n",
        "else:\n",
        "  print(\"can 't  vote\")\n",
        "\n",
        "\n",
        ""
      ],
      "metadata": {
        "colab": {
          "base_uri": "https://localhost:8080/"
        },
        "id": "w7ifSv8YrdjZ",
        "outputId": "9f33fdac-ac67-4c14-e122-877441f0147d"
      },
      "execution_count": 77,
      "outputs": [
        {
          "output_type": "stream",
          "name": "stdout",
          "text": [
            "can 't  vote\n"
          ]
        }
      ]
    },
    {
      "cell_type": "code",
      "source": [
        "x=input (\"enter a Data \")\n",
        "print(x)"
      ],
      "metadata": {
        "colab": {
          "base_uri": "https://localhost:8080/"
        },
        "id": "bmnBVUOLsw8D",
        "outputId": "0bb17b62-3ab9-451c-d18b-0688489729e8"
      },
      "execution_count": 60,
      "outputs": [
        {
          "output_type": "stream",
          "name": "stdout",
          "text": [
            "enter a Data 19\n",
            "19\n"
          ]
        }
      ]
    },
    {
      "cell_type": "code",
      "source": [
        "#xyz\n",
        "#tushar\n",
        "if (\"i \" in \"tushar\")\n"
      ],
      "metadata": {
        "id": "RZ_krh1juBNx"
      },
      "execution_count": null,
      "outputs": []
    }
  ]
}